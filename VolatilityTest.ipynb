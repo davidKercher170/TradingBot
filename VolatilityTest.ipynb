{
 "cells": [
  {
   "cell_type": "code",
   "execution_count": 1,
   "metadata": {},
   "outputs": [],
   "source": [
    "from Algorithms import LinkMomentum\n",
    "from BacktestMethods import ResearchTest\n",
    "from Display import BacktestDisplay\n",
    "import pandas as pd\n",
    "import matplotlib.pyplot as plt\n",
    "import numpy as np"
   ]
  },
  {
   "cell_type": "code",
   "execution_count": 2,
   "metadata": {},
   "outputs": [],
   "source": [
    "def mlink_momentum_test(dir_list, corr, path, interval=250, alpha_val=False, signal_thresholds=[],num_terms=10):\n",
    "    op = []\n",
    "    df = []\n",
    "    ticks = []\n",
    "    algs = []\n",
    "    arrs = []\n",
    "\n",
    "    sp500 = pd.read_pickle(path+'SP500Open.pkl')\n",
    "    for d in dir_list:\n",
    "            open_data = pd.DataFrame()\n",
    "            close_data = pd.DataFrame()\n",
    "\n",
    "            # open the data for the correlation matrix\n",
    "            with open(path+d+corr+\"/\"+str(interval)+\"Day.pkl\", 'rb') as handle:\n",
    "                arr=pd.read_pickle(handle)\n",
    "\n",
    "            open_data=pd.read_pickle(path+d+'Open.pkl') # load Open Data\n",
    "            close_data=pd.read_pickle(path+d+'Close.pkl') # load Close Data\n",
    "\n",
    "            # get the first, last keys (dates) and the indices for corresponding keys\n",
    "            first_key=list(arr.keys())[0]\n",
    "            last_key=list(arr.keys())[-1]\n",
    "            start_index=list(str(d.date()) for d in close_data.index).index(first_key)\n",
    "            end_index=list(str(d.date()) for d in close_data.index).index(last_key)\n",
    "\n",
    "\n",
    "            t=list(i for i in open_data.columns[:int(len(open_data.columns)/2)]) # stock tickers to look at\n",
    "\n",
    "            start_date=list(d for d in open_data.index)[start_index] # first date of trading\n",
    "            end_date=list(d for d in open_data.index)[end_index] # last date of trading\n",
    "\n",
    "            dates = list(x.date() for x in close_data.index)[start_index+20:-20]\n",
    "\n",
    "            ticks.append(t)\n",
    "            op.append(open_data)\n",
    "            df.append(close_data)\n",
    "            arrs.append(arr)\n",
    "            algs.append(LinkMomentum(arr, t, k2=1,method=\"dif\", alpha_val=alpha_val, num_terms=num_terms))\n",
    "\n",
    "    # print(\"Start Date: \" + str(dates[0]) + \" --- End Date: \" + str(dates[-1]))\n",
    "    bt = ResearchTest(algs,df,op,tickers=ticks,start_date=start_date,end_date=end_date,dates=dates,meas_stock=sp500, multi_algs=True, signal_thresholds=False) # initialize backtest\n",
    "\n",
    "    bt.backtest() # backtest\n",
    "    bt.plot(\"Combined\")\n",
    "    # e = bt.eval()\n",
    "\n",
    "    with open(\"log.txt\", \"w\") as f:\n",
    "        f.write(bt.log)\n",
    "\n",
    "    # print(dir_list[0][:-1] + \". Buy: \" + str(bt.avg_bsignal[0]) + \" --- Sell: \" + str(bt.avg_ssignal[0]))\n",
    "    return bt.calc_vol(), bt.sharpe(), bt.comp_annual(), 0"
   ]
  },
  {
   "cell_type": "code",
   "execution_count": null,
   "metadata": {},
   "outputs": [],
   "source": [
    "a = 0.75\n",
    "index_list = [\"Electric/\", \"Energy/\", \"Finance/\", \"Health/\", \"Indust/\", \"REstate/\", \"Tech/\"]\n",
    "avg_cag = 0\n",
    "avg_sh = 0\n",
    "num_terms = 1\n",
    "for index in index_list:\n",
    "    v, sh, cag, e = mlink_momentum_test([index], \"Spearman\", \"TradingBot/Data/\",  alpha_val = a, num_terms=num_terms, interval=250)\n",
    "    print(\"Alpha: \" + str(a) + \" --- Terms: \" + str(num_terms) + \" --- Sharpe: \" + str(round(sh,2)) + \" --- CAG: \" + str(round(cag,2)))"
   ]
  }
 ],
 "metadata": {
  "kernelspec": {
   "display_name": "base",
   "language": "python",
   "name": "python3"
  },
  "language_info": {
   "codemirror_mode": {
    "name": "ipython",
    "version": 3
   },
   "file_extension": ".py",
   "mimetype": "text/x-python",
   "name": "python",
   "nbconvert_exporter": "python",
   "pygments_lexer": "ipython3",
   "version": "3.9.12"
  },
  "orig_nbformat": 4,
  "vscode": {
   "interpreter": {
    "hash": "e3f058019491b5a987a146e2cbdf9c3254eb932582dd8a90e9955176c2995d91"
   }
  }
 },
 "nbformat": 4,
 "nbformat_minor": 2
}
